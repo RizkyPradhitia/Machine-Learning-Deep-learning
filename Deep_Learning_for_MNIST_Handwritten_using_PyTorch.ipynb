{
  "nbformat": 4,
  "nbformat_minor": 0,
  "metadata": {
    "colab": {
      "provenance": [],
      "gpuType": "T4"
    },
    "kernelspec": {
      "name": "python3",
      "display_name": "Python 3"
    },
    "language_info": {
      "name": "python"
    },
    "accelerator": "GPU"
  },
  "cells": [
    {
      "cell_type": "code",
      "execution_count": null,
      "metadata": {
        "id": "T-ezKJNPLsiS"
      },
      "outputs": [],
      "source": [
        "import torch, torchvision, time\n",
        "import torchvision.transforms as transforms\n",
        "import numpy as np\n",
        "from numpy.random import seed\n",
        "from numpy import transpose\n",
        "from matplotlib import pyplot as plt\n",
        "from warnings import filterwarnings as fw; fw(\"ignore\")"
      ]
    },
    {
      "cell_type": "code",
      "source": [
        "def imshow(img : torch.Tensor, *args, **kwargs) -> None:\n",
        "    img = img / 2 + 0.5 # unnormalize\n",
        "    npimg = img.numpy()\n",
        "\n",
        "    plt.figure(figsize=(10, 10))\n",
        "    plt.imshow(transpose(npimg, (1, 2, 0)))\n",
        "    plt.show()"
      ],
      "metadata": {
        "id": "Io6AV7zHgWV5"
      },
      "execution_count": null,
      "outputs": []
    },
    {
      "cell_type": "code",
      "source": [
        "EPOCH = 10\n",
        "batch_size = 16\n",
        "LEARNING_RATE = 3e-3"
      ],
      "metadata": {
        "id": "t3J2_pTgZMGz"
      },
      "execution_count": null,
      "outputs": []
    },
    {
      "cell_type": "code",
      "source": [
        "transform = torchvision.transforms.Compose([\n",
        "    torchvision.transforms.RandomRotation(20), #between (-20, 20) degree\n",
        "    torchvision.transforms.ToTensor(),\n",
        "    transforms.Normalize((0.5,), (0.5,)),\n",
        "])"
      ],
      "metadata": {
        "id": "V7uDDcKyM6cu"
      },
      "execution_count": null,
      "outputs": []
    },
    {
      "cell_type": "code",
      "source": [
        "train_dataset = torchvision.datasets.MNIST(root='.', train=True, transform=transform, download=True)\n",
        "test_dataset = torchvision.datasets.MNIST(root='.', train=False, transform=transform, download=True)\n",
        "\n",
        "train_dataset, valid_dataset = torch.utils.data.random_split(train_dataset, [50000, 10000])\n",
        "\n",
        "train_loader = torch.utils.data.DataLoader(train_dataset, batch_size=batch_size, shuffle=True)\n",
        "valid_loader = torch.utils.data.DataLoader(valid_dataset, batch_size=batch_size, shuffle=False)\n",
        "test_loader = torch.utils.data.DataLoader(test_dataset, batch_size=batch_size, shuffle=False)"
      ],
      "metadata": {
        "id": "5I9AAmQYVS1I"
      },
      "execution_count": null,
      "outputs": []
    },
    {
      "cell_type": "code",
      "source": [
        "print(\"Total TRAIN dataset: {}.\\nFor mini-batch settings, there will be {} batches, with {} data for each batch.\" \\\n",
        "      .format(len(train_dataset), len(train_loader), batch_size))"
      ],
      "metadata": {
        "colab": {
          "base_uri": "https://localhost:8080/"
        },
        "id": "aL3H7Cv4aT4C",
        "outputId": "8129c206-ac3b-4d1e-8e5a-d56218b2215e"
      },
      "execution_count": null,
      "outputs": [
        {
          "output_type": "stream",
          "name": "stdout",
          "text": [
            "Total TRAIN dataset: 50000.\n",
            "For mini-batch settings, there will be 3125 batches, with 16 data for each batch.\n"
          ]
        }
      ]
    },
    {
      "cell_type": "code",
      "source": [
        "print(\"Total VALIDATION dataset: {}.\\nFor mini-batch settings, there will be {} batches, with {} data for each batch.\" \\\n",
        "      .format(len(valid_dataset), len(valid_loader), batch_size))"
      ],
      "metadata": {
        "colab": {
          "base_uri": "https://localhost:8080/"
        },
        "id": "wiymwnnWaeSw",
        "outputId": "08339c5a-06a4-4796-d73d-6dbbecd03833"
      },
      "execution_count": null,
      "outputs": [
        {
          "output_type": "stream",
          "name": "stdout",
          "text": [
            "Total VALIDATION dataset: 10000.\n",
            "For mini-batch settings, there will be 625 batches, with 16 data for each batch.\n"
          ]
        }
      ]
    },
    {
      "cell_type": "code",
      "source": [
        "print(\"Total TEST dataset: {}.\\nFor mini-batch settings, there will be {} batches, with {} data for each batch.\" \\\n",
        "      .format(len(test_dataset), len(test_loader), batch_size))"
      ],
      "metadata": {
        "colab": {
          "base_uri": "https://localhost:8080/"
        },
        "id": "0MhE9HiEaev9",
        "outputId": "26c988c4-dd66-4be6-c4d7-6e00841e8209"
      },
      "execution_count": null,
      "outputs": [
        {
          "output_type": "stream",
          "name": "stdout",
          "text": [
            "Total TEST dataset: 10000.\n",
            "For mini-batch settings, there will be 625 batches, with 16 data for each batch.\n"
          ]
        }
      ]
    },
    {
      "cell_type": "code",
      "source": [
        "dataiter = iter(train_loader)\n",
        "images, labels = next(dataiter)\n",
        "\n",
        "imshow(img=torchvision.utils.make_grid(images))"
      ],
      "metadata": {
        "colab": {
          "base_uri": "https://localhost:8080/",
          "height": 263
        },
        "id": "3xg1Eej5awfc",
        "outputId": "382ca473-114a-49ed-e272-b7f6c58309a1"
      },
      "execution_count": null,
      "outputs": [
        {
          "output_type": "display_data",
          "data": {
            "text/plain": [
              "<Figure size 1000x1000 with 1 Axes>"
            ],
            "image/png": "[encoded data removed]"
          },
          "metadata": {}
        }
      ]
    },
    {
      "cell_type": "code",
      "source": [
        "class ADNet(torch.nn.Module):\n",
        "    def __init__(self):\n",
        "        super(ADNet, self).__init__()\n",
        "        hidden_1 = 512\n",
        "        hidden_2 = 512\n",
        "        self.fc1 = torch.nn.Linear(28 * 28, hidden_1)\n",
        "        self.fc2 = torch.nn.Linear(hidden_1, hidden_2)\n",
        "        self.fc3 = torch.nn.Linear(hidden_2, 10)\n",
        "        self.dropout = torch.nn.Dropout(0.2)\n",
        "\n",
        "    def forward(self, x):\n",
        "        # flatten image input\n",
        "        x = x.view(-1, 28 * 28)\n",
        "        # add hidden layer, with relu activation function\n",
        "        x = torch.nn.functional.relu(self.fc1(x))\n",
        "        # add dropout layer\n",
        "        x = self.dropout(x)\n",
        "        # add hidden layer, with relu activation function\n",
        "        x = torch.nn.functional.relu(self.fc2(x))\n",
        "        # add dropout layer\n",
        "        x = self.dropout(x)\n",
        "        # add output layer\n",
        "        x = self.fc3(x)\n",
        "        return x\n",
        "\n"
      ],
      "metadata": {
        "id": "AyiY6DUmkIDl"
      },
      "execution_count": null,
      "outputs": []
    },
    {
      "cell_type": "code",
      "source": [
        "model = ADNet()\n",
        "print(model)"
      ],
      "metadata": {
        "colab": {
          "base_uri": "https://localhost:8080/"
        },
        "id": "Op_EC2wMnqS1",
        "outputId": "b09d01bd-f722-48a8-8126-64b2c74ef826"
      },
      "execution_count": null,
      "outputs": [
        {
          "output_type": "stream",
          "name": "stdout",
          "text": [
            "ADNet(\n",
            "  (fc1): Linear(in_features=784, out_features=512, bias=True)\n",
            "  (fc2): Linear(in_features=512, out_features=512, bias=True)\n",
            "  (fc3): Linear(in_features=512, out_features=10, bias=True)\n",
            "  (dropout): Dropout(p=0.2, inplace=False)\n",
            ")\n"
          ]
        }
      ]
    },
    {
      "cell_type": "code",
      "source": [
        "loss_function = torch.nn.CrossEntropyLoss()"
      ],
      "metadata": {
        "id": "z6T_yYhbn9xj"
      },
      "execution_count": null,
      "outputs": []
    },
    {
      "cell_type": "code",
      "source": [
        "optimizer = torch.optim.Adam(model.parameters(), lr = LEARNING_RATE)"
      ],
      "metadata": {
        "id": "jWmMy6aCod1W"
      },
      "execution_count": null,
      "outputs": []
    },
    {
      "cell_type": "code",
      "source": [
        "for epoch in range(EPOCH):\n",
        "\n",
        "    train_loss = 0.0\n",
        "    valid_loss = 0.0\n",
        "\n",
        "\n",
        "    train_correct = 0\n",
        "    valid_correct = 0\n",
        "    train_total = 0\n",
        "    valid_total = 0\n",
        "\n",
        "\n",
        "\n",
        "    model.train()\n",
        "    for data, target in train_loader:\n",
        "          optimizer.zero_grad()\n",
        "          output = model(data)\n",
        "          loss = loss_function(output, target)\n",
        "          loss.backward()\n",
        "          # perform a single optimization step (parameter update)\n",
        "          optimizer.step()\n",
        "          # update running training loss\n",
        "          train_loss += loss.item()*data.size(0)\n",
        "\n",
        "          pred = output.argmax(1, keepdim=True)\n",
        "          train_correct += pred.eq(target.view_as(pred)).sum().item()\n",
        "          train_total += target.size(0)\n",
        "\n",
        "    train_acc = train_correct / train_total\n",
        "\n",
        "    model.eval()\n",
        "    for data, target in valid_loader:\n",
        "          # forward pass: compute predicted outputs by passing inputs to the model\n",
        "          output = model(data)\n",
        "          # calculate the loss\n",
        "          loss = loss_function(output, target)\n",
        "          # update running validation loss\n",
        "          valid_loss += loss.item()*data.size(0)\n",
        "\n",
        "          pred = output.argmax(1, keepdim=True)\n",
        "          valid_correct += pred.eq(target.view_as(pred)).sum().item()\n",
        "          valid_total += target.size(0)\n",
        "          targets = target.tolist()\n",
        "\n",
        "    valid_acc = valid_correct / valid_total\n",
        "    # print training/validation statistics\n",
        "    # calculate average loss over an epoch\n",
        "    train_loss = train_loss/len(train_loader.dataset)\n",
        "    valid_loss = valid_loss/len(valid_loader.dataset)\n",
        "\n",
        "    print('Epoch: {} \\tTraining Loss: {:.3f} \\tValidation Loss: {:.3f} \\tTraining Accuracy: {:.2f} \\tValidation Accuracy: {:.2f}'.format(\n",
        "        epoch+1,\n",
        "        train_loss,\n",
        "        valid_loss,\n",
        "        train_acc * 100,\n",
        "        valid_acc * 100,\n",
        "        ))\n"
      ],
      "metadata": {
        "id": "vw2sglbjoopQ",
        "colab": {
          "base_uri": "https://localhost:8080/"
        },
        "outputId": "bb06fece-3400-41e2-bbdd-e46262441c4d"
      },
      "execution_count": null,
      "outputs": [
        {
          "output_type": "stream",
          "name": "stdout",
          "text": [
            "Epoch: 1 \tTraining Loss: 0.658 \tValidation Loss: 0.472 \tTraining Accuracy: 79.56 \tValidation Accuracy: 86.74\n",
            "Epoch: 2 \tTraining Loss: 0.544 \tValidation Loss: 0.350 \tTraining Accuracy: 84.12 \tValidation Accuracy: 89.41\n",
            "Epoch: 3 \tTraining Loss: 0.512 \tValidation Loss: 0.365 \tTraining Accuracy: 85.30 \tValidation Accuracy: 88.62\n",
            "Epoch: 4 \tTraining Loss: 0.494 \tValidation Loss: 0.344 \tTraining Accuracy: 85.95 \tValidation Accuracy: 90.46\n",
            "Epoch: 5 \tTraining Loss: 0.481 \tValidation Loss: 0.304 \tTraining Accuracy: 86.55 \tValidation Accuracy: 91.49\n",
            "Epoch: 6 \tTraining Loss: 0.480 \tValidation Loss: 0.313 \tTraining Accuracy: 86.59 \tValidation Accuracy: 90.88\n",
            "Epoch: 7 \tTraining Loss: 0.472 \tValidation Loss: 0.292 \tTraining Accuracy: 86.81 \tValidation Accuracy: 91.65\n",
            "Epoch: 8 \tTraining Loss: 0.458 \tValidation Loss: 0.357 \tTraining Accuracy: 87.30 \tValidation Accuracy: 90.55\n",
            "Epoch: 9 \tTraining Loss: 0.456 \tValidation Loss: 0.301 \tTraining Accuracy: 87.34 \tValidation Accuracy: 90.91\n",
            "Epoch: 10 \tTraining Loss: 0.463 \tValidation Loss: 0.355 \tTraining Accuracy: 87.11 \tValidation Accuracy: 89.09\n"
          ]
        }
      ]
    }
  ]
}